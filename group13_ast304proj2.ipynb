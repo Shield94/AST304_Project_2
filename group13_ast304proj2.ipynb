{
 "cells": [
  {
   "cell_type": "markdown",
   "id": "9a781015",
   "metadata": {},
   "source": [
    "# AST 208 Computational Project 2 #\n",
    "\n",
    "Group 13: O Star Students: Nathan Shields, Brenna Chetan, Maya Joyce\n",
    "\n",
    "AST 304, Fall 2020\n",
    "\n",
    "Michigan State University\n"
   ]
  },
  {
   "cell_type": "code",
   "execution_count": 1,
   "id": "34710f6e",
   "metadata": {},
   "outputs": [],
   "source": [
    "from test_eos import *\n",
    "import astro_const as ac\n",
    "from structure import stellar_derivatives, central_values, lengthscales, integrate, pressure_guess\n",
    "from eos import *\n",
    "import numpy as np"
   ]
  },
  {
   "cell_type": "code",
   "execution_count": 2,
   "id": "833d2ccd",
   "metadata": {},
   "outputs": [
    {
     "name": "stdout",
     "output_type": "stream",
     "text": [
      "   rho (table)    rho (test)    difference       P (table)      P (test)    difference\n",
      "\n",
      "  1.000000e+05  1.000000e+05  7.275958e-16    6.810445e+14  6.810445e+14  0.000000e+00\n",
      "  1.123655e+05  1.123655e+05  2.590104e-16    8.271108e+14  8.271108e+14  7.556424e-16\n",
      "  1.262600e+05  1.262600e+05  1.152536e-15    1.004504e+15  1.004504e+15 -7.466368e-16\n",
      "  1.418727e+05  1.418727e+05  6.154215e-16    1.219944e+15  1.219944e+15  2.049274e-16\n",
      "  1.594159e+05  1.594159e+05  3.651308e-16    1.481591e+15  1.481591e+15  6.749502e-16\n",
      "  1.791284e+05  1.791284e+05  6.498986e-16    1.799353e+15  1.799353e+15 -1.389388e-16\n",
      "  2.012785e+05  2.012785e+05  8.675688e-16    2.185268e+15  2.185268e+15 -3.432074e-16\n",
      "  2.261676e+05  2.261676e+05  5.147303e-16    2.653950e+15  2.653950e+15  1.883984e-16\n",
      "  2.541343e+05  2.541343e+05  5.726073e-16    3.223153e+15  3.223153e+15  0.000000e+00\n",
      "  2.855592e+05  2.855592e+05  8.153497e-16    3.914436e+15  3.914436e+15 -3.831970e-16\n",
      "  3.208700e+05  3.208700e+05  7.256230e-16    4.753980e+15  4.753980e+15 -2.103501e-16\n",
      "  3.605471e+05  3.605471e+05  6.457704e-16    5.773585e+15  5.773585e+15  0.000000e+00\n",
      "  4.051305e+05  4.051305e+05  7.183816e-16    7.011868e+15  7.011868e+15 -1.426153e-16\n",
      "  4.552268e+05  4.552268e+05  6.393259e-16    8.515731e+15  8.515731e+15  1.174297e-16\n",
      "  5.115178e+05  5.115178e+05  7.965580e-16    1.034213e+16  1.034213e+16 -3.867674e-16\n",
      "  5.747694e+05  5.747694e+05  6.076279e-16    1.256025e+16  1.256025e+16 -1.592325e-16\n",
      "  6.458424e+05  6.458424e+05  7.210138e-16    1.525410e+16  1.525410e+16  0.000000e+00\n",
      "  7.257040e+05  7.257040e+05  8.020855e-16    1.852570e+16  1.852570e+16 -2.159163e-16\n",
      "  8.154407e+05  8.154407e+05  5.710547e-16    2.249898e+16  2.249898e+16  1.777858e-16\n",
      "  9.162739e+05  9.162739e+05  6.352649e-16    2.732442e+16  2.732442e+16  0.000000e+00\n",
      "  1.029576e+06  1.029576e+06  4.522847e-16    3.318480e+16  3.318480e+16  2.410742e-16\n",
      "  1.156888e+06  1.156888e+06  1.006280e-15    4.030207e+16  4.030207e+16 -5.955028e-16\n",
      "  1.299942e+06  1.299942e+06  5.373254e-16    4.894582e+16  4.894582e+16  0.000000e+00\n",
      "  1.460686e+06  1.460686e+06  4.781943e-16    5.944342e+16  5.944342e+16  4.037453e-16\n",
      "  1.641307e+06  1.641307e+06  7.092842e-16    7.219248e+16  7.219248e+16  0.000000e+00\n",
      "  1.844263e+06  1.844263e+06  5.049837e-16    8.767588e+16  8.767588e+16  1.824903e-16\n",
      "  2.072315e+06  2.072315e+06  7.864706e-16    1.064801e+17  1.064801e+17  0.000000e+00\n",
      "  2.328566e+06  2.328566e+06  3.999554e-16    1.293173e+17  1.293173e+17  4.949068e-16\n",
      "  2.616505e+06  2.616505e+06  5.339122e-16    1.570524e+17  1.570524e+17  2.037536e-16\n",
      "  2.940048e+06  2.940048e+06  6.335424e-16    1.907361e+17  1.907361e+17  0.000000e+00\n",
      "  3.303599e+06  3.303599e+06  5.638230e-16    2.316440e+17  2.316440e+17  2.762860e-16\n",
      "  3.712105e+06  3.712105e+06  6.272200e-16    2.813256e+17  2.813256e+17  0.000000e+00\n",
      "  4.171125e+06  4.171125e+06  6.698356e-16    3.416626e+17  3.416626e+17  0.000000e+00\n",
      "  4.686904e+06  4.686904e+06  5.961222e-16    4.149403e+17  4.149403e+17  3.084781e-16\n",
      "  5.266462e+06  5.266462e+06  5.305208e-16    5.039342e+17  5.039342e+17  1.270007e-16\n",
      "  5.917686e+06  5.917686e+06  9.442772e-16    6.120149e+17  6.120149e+17 -2.091452e-16\n",
      "  6.649436e+06  6.649436e+06  7.003019e-16    7.432761e+17  7.432761e+17  0.000000e+00\n",
      "  7.471671e+06  7.471671e+06  6.232358e-16    9.026895e+17  9.026895e+17  1.417985e-16\n",
      "  8.395579e+06  8.395579e+06  6.655807e-16    1.096293e+18  1.096293e+18 -1.167571e-16\n",
      "  9.433732e+06  9.433732e+06  7.897808e-16    1.331419e+18  1.331419e+18 -1.922761e-16\n",
      "  1.060026e+07  1.060026e+07  1.054302e-15    1.616974e+18  1.616974e+18 -6.332818e-16\n",
      "  1.191103e+07  1.191103e+07  7.818992e-16    1.963772e+18  1.963772e+18  3.910841e-16\n",
      "  1.338389e+07  1.338389e+07  1.113366e-15    2.384950e+18  2.384950e+18 -4.293591e-16\n",
      "  1.503887e+07  1.503887e+07  6.192770e-16    2.896460e+18  2.896460e+18 -1.767675e-16\n",
      "  1.689850e+07  1.689850e+07  8.818039e-16    3.517675e+18  3.517675e+18 -4.366521e-16\n",
      "  1.898808e+07  1.898808e+07  7.847641e-16    4.272124e+18  4.272124e+18 -2.396934e-16\n",
      "  2.133605e+07  2.133605e+07  6.984031e-16    5.188383e+18  5.188383e+18  1.973640e-16\n",
      "  2.397435e+07  2.397435e+07  7.769325e-16    6.301156e+18  6.301156e+18 -1.625099e-16\n",
      "  2.693889e+07  2.693889e+07  8.297201e-16    7.652589e+18  7.652589e+18 -4.014327e-16\n",
      "  3.027002e+07  3.027002e+07  8.614806e-16    9.293870e+18  9.293870e+18 -4.407206e-16\n",
      "  3.401305e+07  3.401305e+07  6.571520e-16    1.128716e+19  1.128716e+19  3.628901e-16\n",
      "  3.821893e+07  3.821893e+07  9.747240e-16    1.370796e+19  1.370796e+19 -5.976088e-16\n",
      "  4.294488e+07  4.294488e+07  8.674585e-16    1.664797e+19  1.664797e+19  0.000000e+00\n",
      "  4.825522e+07  4.825522e+07  4.631984e-16    2.021852e+19  2.021852e+19  4.051731e-16\n",
      "  5.422221e+07  5.422221e+07  5.496331e-16    2.455486e+19  2.455486e+19  1.668101e-16\n",
      "  6.092705e+07  6.092705e+07  7.337215e-16    2.982124e+19  2.982124e+19 -1.373518e-16\n",
      "  6.846097e+07  6.846097e+07  6.529777e-16    3.621712e+19  3.621712e+19 -1.130957e-16\n",
      "  7.692650e+07  7.692650e+07  7.748259e-16    4.398475e+19  4.398475e+19 -1.862464e-16\n",
      "  8.643883e+07  8.643883e+07  8.619484e-16    5.341833e+19  5.341833e+19  0.000000e+00\n",
      "  9.712740e+07  9.712740e+07  6.136749e-16    6.487516e+19  6.487516e+19  0.000000e+00\n",
      "  1.091377e+08  1.091377e+08  5.461418e-16    7.878919e+19  7.878919e+19  2.079473e-16\n",
      "  1.226331e+08  1.226331e+08  1.215101e-15    9.568742e+19  9.568742e+19 -5.136726e-16\n",
      "  1.377972e+08  1.377972e+08  8.651065e-16    1.162099e+20  1.162099e+20 -1.409863e-16\n",
      "  1.548365e+08  1.548365e+08  3.849521e-16    1.411339e+20  1.411339e+20  4.643535e-16\n",
      "  1.739828e+08  1.739828e+08  6.851786e-16    1.714034e+20  1.714034e+20 -1.911748e-16\n",
      "  1.954966e+08  1.954966e+08  3.048884e-16    2.081649e+20  2.081649e+20  4.722409e-16\n",
      "  2.196707e+08  2.196707e+08  9.496772e-16    2.528109e+20  2.528109e+20 -5.184587e-16\n",
      "  2.468340e+08  2.468340e+08  6.036915e-16    3.070322e+20  3.070322e+20  0.000000e+00\n",
      "  2.773563e+08  2.773563e+08  4.298057e-16    3.728826e+20  3.728826e+20  3.515101e-16\n",
      "  3.116527e+08  3.116527e+08  7.650137e-16    4.528562e+20  4.528562e+20 -2.894340e-16\n",
      "  3.501900e+08  3.501900e+08  6.808263e-16    5.499820e+20  5.499820e+20  0.000000e+00\n",
      "  3.934927e+08  3.934927e+08  7.573792e-16    6.679388e+20  6.679388e+20  0.000000e+00\n",
      "  4.421500e+08  4.421500e+08  6.740320e-16    8.111943e+20  8.111943e+20  0.000000e+00\n",
      "  4.968240e+08  4.968240e+08  8.397995e-16    9.851743e+20  9.851743e+20 -2.660890e-16\n",
      "  5.582586e+08  5.582586e+08  8.541510e-16    1.196468e+21  1.196468e+21  2.190981e-16\n",
      "  6.272900e+08  6.272900e+08  5.701157e-16    1.453080e+21  1.453080e+21  1.804058e-16\n",
      "  7.048574e+08  7.048574e+08  6.765016e-16    1.764727e+21  1.764727e+21  1.485465e-16\n",
      "  7.920164e+08  7.920164e+08  7.525683e-16    2.143215e+21  2.143215e+21  2.446268e-16\n",
      "  8.899530e+08  8.899530e+08  5.358004e-16    2.602879e+21  2.602879e+21  4.028524e-16\n",
      "  1.000000e+09  1.000000e+09  4.768372e-16    3.161129e+21  3.161129e+21  3.317094e-16\n"
     ]
    },
    {
     "data": {
      "text/plain": [
       "True"
      ]
     },
     "execution_count": 2,
     "metadata": {},
     "output_type": "execute_result"
    }
   ],
   "source": [
    "test_eos(pressure,density)"
   ]
  },
  {
   "cell_type": "markdown",
   "id": "a57a5aa9",
   "metadata": {},
   "source": [
    "## 2.6 Test Integration"
   ]
  },
  {
   "cell_type": "code",
   "execution_count": 3,
   "id": "1cf8d5c3",
   "metadata": {},
   "outputs": [
    {
     "name": "stdout",
     "output_type": "stream",
     "text": [
      "M guess = 6.017661562880464e+30 kg   R guess = 6113223.207222233 m   P guess = 6.632678570496515e+17 kg/(m*s^2)\n",
      "delta m = 0.0001\n",
      "eta = 5e-07\n",
      "xi = 0.05\n"
     ]
    }
   ],
   "source": [
    "#Adjusting delta_m, eta, and xi\n",
    "Pc = pressure_guess(ac.Msun, 2)\n",
    "m,r,p = integrate(Pc, 1e-4,5e-7,.05,2)\n",
    "print(\"M guess =\",m[-1],\"kg\",\"  R guess =\",r[-1],\"m\",\"  P guess =\",p[-1],\"kg/(m*s^2)\")\n",
    "\n",
    "delta_m = 1e-4\n",
    "eta = 5e-7\n",
    "xi = 0.05\n",
    "mue=2\n",
    "\n",
    "print(\"delta m =\",delta_m)\n",
    "print(\"eta =\", eta)\n",
    "print(\"xi =\",xi)"
   ]
  },
  {
   "cell_type": "code",
   "execution_count": 4,
   "id": "a6107fa6",
   "metadata": {},
   "outputs": [
    {
     "name": "stdout",
     "output_type": "stream",
     "text": [
      "mass = 1.006333384661577 solar masses\n",
      "P high = 3.34e+22\n"
     ]
    }
   ],
   "source": [
    "#Finding High Pc\n",
    "P_high = 3.34e22\n",
    "m,r,p = integrate(P_high, 1e-4,5e-7,.05,2)\n",
    "print(\"mass =\" ,m[-1]/ac.Msun, \"solar masses\")\n",
    "print(\"P high =\", P_high)"
   ]
  },
  {
   "cell_type": "code",
   "execution_count": 5,
   "id": "81b82b06",
   "metadata": {},
   "outputs": [
    {
     "name": "stdout",
     "output_type": "stream",
     "text": [
      "mass = 0.09984147171549435 solar masses\n",
      "P low = 1.51e+19\n"
     ]
    }
   ],
   "source": [
    "#Finding low Pc\n",
    "P_low = 1.51e19\n",
    "m,r,p = integrate(P_low, 1e-4,5e-7,.05,2)\n",
    "print(\"mass =\",m[-1]/ac.Msun, \"solar masses\")\n",
    "print(\"P low =\", P_low)"
   ]
  },
  {
   "cell_type": "markdown",
   "id": "92727193",
   "metadata": {},
   "source": [
    "## 2.7 Make Mass Radius Table"
   ]
  },
  {
   "cell_type": "code",
   "execution_count": 6,
   "id": "795b0356",
   "metadata": {},
   "outputs": [],
   "source": [
    "#Function to use with bisect\n",
    "def f(Pc,Mwant,delta_m,eta,xi,mue):\n",
    "    m,r,p = integrate(Pc,delta_m,eta,xi,mue)\n",
    "    M = m[-1]\n",
    "    return(M-Mwant)"
   ]
  },
  {
   "cell_type": "code",
   "execution_count": 7,
   "id": "003e1d48",
   "metadata": {
    "scrolled": true
   },
   "outputs": [],
   "source": [
    "#Finding optimized Pc for specific white dwarf masses between 0.1 and 1 solar masses\n",
    "import pandas as pd\n",
    "from scipy import optimize\n",
    "masses = ac.Msun*np.arange(0.1,1.1,0.1)\n",
    "P = np.zeros(10)\n",
    "R = np.zeros(10)\n",
    "Pmks = np.zeros(10)\n",
    "rhomks = np.zeros(10)\n",
    "rho = np.zeros(10)\n",
    "for i in range(len(masses)):\n",
    "    Pc = optimize.bisect(f,P_low,P_high,args = (masses[i],delta_m,eta,xi,mue))\n",
    "    m,r,p = integrate(Pc,delta_m,eta,xi,mue)\n",
    "    P[i] = Pc\n",
    "    R[i] = r[-1]\n",
    "    Pmks[i] = Pc/(ac.G*(masses[i])**2*R[i]**(-4))\n",
    "    rhomks[i] = density(P[i],mue)\n",
    "    rho[i] = rhomks[i]/((3*masses[i])/(ac.fourpi*R[i]**3))"
   ]
  },
  {
   "cell_type": "code",
   "execution_count": 8,
   "id": "6db97ea4",
   "metadata": {},
   "outputs": [
    {
     "data": {
      "text/html": [
       "<div>\n",
       "<style scoped>\n",
       "    .dataframe tbody tr th:only-of-type {\n",
       "        vertical-align: middle;\n",
       "    }\n",
       "\n",
       "    .dataframe tbody tr th {\n",
       "        vertical-align: top;\n",
       "    }\n",
       "\n",
       "    .dataframe thead th {\n",
       "        text-align: right;\n",
       "    }\n",
       "</style>\n",
       "<table border=\"1\" class=\"dataframe\">\n",
       "  <thead>\n",
       "    <tr style=\"text-align: right;\">\n",
       "      <th></th>\n",
       "      <th>$$\\frac{M}{M_{\\odot}}$$</th>\n",
       "      <th>$\\frac{R}{R_{\\odot}}$</th>\n",
       "      <th>$P_c$ (MKS)</th>\n",
       "      <th>$\\frac{P_c}{GM^2R^{-4}}$</th>\n",
       "      <th>$\\rho_c$ (MKS)</th>\n",
       "      <th>$\\rho$</th>\n",
       "    </tr>\n",
       "  </thead>\n",
       "  <tbody>\n",
       "    <tr>\n",
       "      <th>0</th>\n",
       "      <td>0.1</td>\n",
       "      <td>0.027382</td>\n",
       "      <td>1.518007e+19</td>\n",
       "      <td>0.757552</td>\n",
       "      <td>4.063113e+07</td>\n",
       "      <td>5.917101</td>\n",
       "    </tr>\n",
       "    <tr>\n",
       "      <th>1</th>\n",
       "      <td>0.2</td>\n",
       "      <td>0.021733</td>\n",
       "      <td>1.530055e+20</td>\n",
       "      <td>0.757563</td>\n",
       "      <td>1.625245e+08</td>\n",
       "      <td>5.917164</td>\n",
       "    </tr>\n",
       "    <tr>\n",
       "      <th>2</th>\n",
       "      <td>0.3</td>\n",
       "      <td>0.018986</td>\n",
       "      <td>5.911230e+20</td>\n",
       "      <td>0.757589</td>\n",
       "      <td>3.656802e+08</td>\n",
       "      <td>5.917318</td>\n",
       "    </tr>\n",
       "    <tr>\n",
       "      <th>3</th>\n",
       "      <td>0.4</td>\n",
       "      <td>0.017250</td>\n",
       "      <td>1.542199e+21</td>\n",
       "      <td>0.757574</td>\n",
       "      <td>6.500981e+08</td>\n",
       "      <td>5.917227</td>\n",
       "    </tr>\n",
       "    <tr>\n",
       "      <th>4</th>\n",
       "      <td>0.5</td>\n",
       "      <td>0.016014</td>\n",
       "      <td>3.244692e+21</td>\n",
       "      <td>0.757674</td>\n",
       "      <td>1.015778e+09</td>\n",
       "      <td>5.917817</td>\n",
       "    </tr>\n",
       "    <tr>\n",
       "      <th>5</th>\n",
       "      <td>0.6</td>\n",
       "      <td>0.015069</td>\n",
       "      <td>5.958146e+21</td>\n",
       "      <td>0.757600</td>\n",
       "      <td>1.462721e+09</td>\n",
       "      <td>5.917378</td>\n",
       "    </tr>\n",
       "    <tr>\n",
       "      <th>6</th>\n",
       "      <td>0.7</td>\n",
       "      <td>0.014314</td>\n",
       "      <td>9.960179e+21</td>\n",
       "      <td>0.757573</td>\n",
       "      <td>1.990925e+09</td>\n",
       "      <td>5.917221</td>\n",
       "    </tr>\n",
       "    <tr>\n",
       "      <th>7</th>\n",
       "      <td>0.8</td>\n",
       "      <td>0.013691</td>\n",
       "      <td>1.554439e+22</td>\n",
       "      <td>0.757585</td>\n",
       "      <td>2.600392e+09</td>\n",
       "      <td>5.917290</td>\n",
       "    </tr>\n",
       "    <tr>\n",
       "      <th>8</th>\n",
       "      <td>0.9</td>\n",
       "      <td>0.013164</td>\n",
       "      <td>2.301876e+22</td>\n",
       "      <td>0.757624</td>\n",
       "      <td>3.291121e+09</td>\n",
       "      <td>5.917519</td>\n",
       "    </tr>\n",
       "    <tr>\n",
       "      <th>9</th>\n",
       "      <td>1.0</td>\n",
       "      <td>0.012710</td>\n",
       "      <td>3.270445e+22</td>\n",
       "      <td>0.757685</td>\n",
       "      <td>4.063112e+09</td>\n",
       "      <td>5.917876</td>\n",
       "    </tr>\n",
       "  </tbody>\n",
       "</table>\n",
       "</div>"
      ],
      "text/plain": [
       "   $$\\frac{M}{M_{\\odot}}$$  $\\frac{R}{R_{\\odot}}$   $P_c$ (MKS)  \\\n",
       "0                      0.1               0.027382  1.518007e+19   \n",
       "1                      0.2               0.021733  1.530055e+20   \n",
       "2                      0.3               0.018986  5.911230e+20   \n",
       "3                      0.4               0.017250  1.542199e+21   \n",
       "4                      0.5               0.016014  3.244692e+21   \n",
       "5                      0.6               0.015069  5.958146e+21   \n",
       "6                      0.7               0.014314  9.960179e+21   \n",
       "7                      0.8               0.013691  1.554439e+22   \n",
       "8                      0.9               0.013164  2.301876e+22   \n",
       "9                      1.0               0.012710  3.270445e+22   \n",
       "\n",
       "   $\\frac{P_c}{GM^2R^{-4}}$  $\\rho_c$ (MKS)    $\\rho$  \n",
       "0                  0.757552    4.063113e+07  5.917101  \n",
       "1                  0.757563    1.625245e+08  5.917164  \n",
       "2                  0.757589    3.656802e+08  5.917318  \n",
       "3                  0.757574    6.500981e+08  5.917227  \n",
       "4                  0.757674    1.015778e+09  5.917817  \n",
       "5                  0.757600    1.462721e+09  5.917378  \n",
       "6                  0.757573    1.990925e+09  5.917221  \n",
       "7                  0.757585    2.600392e+09  5.917290  \n",
       "8                  0.757624    3.291121e+09  5.917519  \n",
       "9                  0.757685    4.063112e+09  5.917876  "
      ]
     },
     "execution_count": 8,
     "metadata": {},
     "output_type": "execute_result"
    }
   ],
   "source": [
    "diction = {\"$$\\\\frac{M}{M_{\\\\odot}}$$\":np.arange(.1,1.1,.1), \"$\\\\frac{R}{R_{\\\\odot}}$\":R/ac.Rsun,\"$P_c$ (MKS)\": P,\n",
    "          \"$\\\\frac{P_c}{GM^2R^{-4}}$\":Pmks, \"$\\\\rho_c$ (MKS)\": rhomks, \"$\\\\rho$\": rho}\n",
    "\n",
    "table = pd.DataFrame(diction)\n",
    "table"
   ]
  },
  {
   "cell_type": "code",
   "execution_count": 9,
   "id": "17639b11",
   "metadata": {},
   "outputs": [
    {
     "ename": "SyntaxError",
     "evalue": "cannot assign to operator (240252406.py, line 2)",
     "output_type": "error",
     "traceback": [
      "\u001b[1;36m  Input \u001b[1;32mIn [9]\u001b[1;36m\u001b[0m\n\u001b[1;33m    Pc/s = .77\u001b[0m\n\u001b[1;37m    ^\u001b[0m\n\u001b[1;31mSyntaxError\u001b[0m\u001b[1;31m:\u001b[0m cannot assign to operator\n"
     ]
    }
   ],
   "source": [
    "rh0 = 5.99\n",
    "Pc/s = .77"
   ]
  },
  {
   "cell_type": "markdown",
   "id": "71226acf",
   "metadata": {},
   "source": [
    "## 2.8 Compare to Observations"
   ]
  },
  {
   "cell_type": "code",
   "execution_count": null,
   "id": "c59d2a0a",
   "metadata": {},
   "outputs": [],
   "source": [
    "import matplotlib.pyplot as plt\n",
    "from observations import MassRadiusObservations, make_observation_plot\n",
    "import seaborn as sns\n",
    "\n",
    "obs = MassRadiusObservations()\n",
    "\n",
    "fig = plt.figure(figsize = (10,7))\n",
    "\n",
    "ax =fig.add_subplot()\n",
    "ax.plot(masses/ac.Msun,R/(0.01*ac.Rsun),label=\"Computed Values\",linestyle = 'dashed', linewidth = 1,color = 'purple')\n",
    "make_observation_plot(ax, obs)\n",
    "ax.set_title('Computed Mass-Radius relation vs Observational data',fontsize=17)\n",
    "plt.show()"
   ]
  },
  {
   "cell_type": "markdown",
   "id": "35497d49",
   "metadata": {},
   "source": [
    "## Report"
   ]
  },
  {
   "cell_type": "markdown",
   "id": "e1bdefc4",
   "metadata": {},
   "source": [
    "1. Prose is clear and at an appropriate level (**3 pts**)\n",
    "2. Report acknowledges that EOS was tested (**3 pts**)\n",
    "3. Discussion of convergence.  \n",
    "    a. Rationale for values of &delta;, &eta;, and &xi; are provided (**5 pts**)  \n",
    "    b. Scalings of central pressure, density are discussed (**3 pts**)\n",
    "4. Plot shows relation with data, including error bars (**3 pts**)\n",
    "5. Discussion of the realism of the white dwarf model (**3 pts**)"
   ]
  },
  {
   "cell_type": "markdown",
   "id": "b9b4e967",
   "metadata": {},
   "source": [
    "# REPORT ANSWERS\n",
    "\n",
    "2. To begin with the project, we first needed to construct the EOS function. The EOS was then tested, spitting out a TRUE value, indicating that the EOS function we constructed was correct.\n",
    "\n",
    "\n",
    "3. To get the values of δ, η, and ξ, we had to estimate with our `integrate` function. The procedure to get these values is simple, but it was hard to determine how small these values should be. We settled with δ = 1e-4, η = 5e-7, and ξ = 0.05. These were the values that produced stable results when varying other parameters. These parameters also produced solid results for the table above, boosting our confidence in them. These values would prove useful when calculating the scalings for central pressure and density. As seen in **2.6**, P_guess does a horrible job, giving us a mass 3 times larger than what we started with! We had to scale back P_guess to get sensible consistent results. Using `bisect`, we were able to optimize P_guess and get back the same mass we handed `integrate`. Bisect also had arguments for an lower and upper bounds, these bounds were P_low and P_high, calulated in **2.6**."
   ]
  },
  {
   "cell_type": "code",
   "execution_count": null,
   "id": "99fbcc93",
   "metadata": {},
   "outputs": [],
   "source": []
  }
 ],
 "metadata": {
  "kernelspec": {
   "display_name": "Python 3 (ipykernel)",
   "language": "python",
   "name": "python3"
  },
  "language_info": {
   "codemirror_mode": {
    "name": "ipython",
    "version": 3
   },
   "file_extension": ".py",
   "mimetype": "text/x-python",
   "name": "python",
   "nbconvert_exporter": "python",
   "pygments_lexer": "ipython3",
   "version": "3.9.12"
  }
 },
 "nbformat": 4,
 "nbformat_minor": 5
}
