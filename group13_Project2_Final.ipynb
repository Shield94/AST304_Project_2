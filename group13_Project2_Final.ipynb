{
 "cells": [
  {
   "cell_type": "markdown",
   "metadata": {},
   "source": [
    "# AST 208 Computational Project 2 #\n",
    "\n",
    "Group 13: O Star Students: Nathan Shields, Brenna Chetan, Maya Joyce\n",
    "\n",
    "AST 304, Fall 2020\n",
    "\n",
    "Michigan State University\n"
   ]
  },
  {
   "cell_type": "code",
   "execution_count": 1,
   "metadata": {},
   "outputs": [],
   "source": [
    "from test_eos import *\n",
    "import astro_const as ac\n",
    "from structure import stellar_derivatives, central_values, lengthscales, integrate, pressure_guess\n",
    "from eos import *"
   ]
  },
  {
   "cell_type": "markdown",
   "metadata": {},
   "source": [
    "## 2.6 Test Integration"
   ]
  },
  {
   "cell_type": "code",
   "execution_count": 22,
   "metadata": {},
   "outputs": [
    {
     "name": "stdout",
     "output_type": "stream",
     "text": [
      "M guess = 6.017661562880473e+30 kg   R guess = 6113223.207222236 m   P guess = 6.632678570496524e+17 kg/(m*s^2)\n",
      "delta m = 0.0001\n",
      "eta = 5e-07\n",
      "xi = 0.05\n"
     ]
    }
   ],
   "source": [
    "#Adjusting delta_m, eta, and xi\n",
    "Pc = pressure_guess(ac.Msun, 2)\n",
    "m,r,p = integrate(Pc, 1e-4,5e-7,.05,2)\n",
    "print(\"M guess =\",m[-1],\"kg\",\"  R guess =\",r[-1],\"m\",\"  P guess =\",p[-1],\"kg/(m*s^2)\")\n",
    "\n",
    "delta_m = 1e-4\n",
    "eta = 5e-7\n",
    "xi = 0.05\n",
    "mue=2\n",
    "\n",
    "print(\"delta m =\",delta_m)\n",
    "print(\"eta =\", eta)\n",
    "print(\"xi =\",xi)"
   ]
  },
  {
   "cell_type": "code",
   "execution_count": 3,
   "metadata": {},
   "outputs": [
    {
     "name": "stdout",
     "output_type": "stream",
     "text": [
      "mass = 1.0063333846615787 solar masses\n",
      "P high = 3.34e+22\n"
     ]
    }
   ],
   "source": [
    "#Finding High Pc\n",
    "P_high = 3.34e22\n",
    "m,r,p = integrate(P_high, 1e-4,5e-7,.05,2)\n",
    "print(\"mass =\" ,m[-1]/ac.Msun, \"solar masses\")\n",
    "print(\"P high =\", P_high)"
   ]
  },
  {
   "cell_type": "code",
   "execution_count": 4,
   "metadata": {},
   "outputs": [
    {
     "name": "stdout",
     "output_type": "stream",
     "text": [
      "mass = 0.09984147171549451 solar masses\n",
      "P low = 1.51e+19\n"
     ]
    }
   ],
   "source": [
    "#Finding low Pc\n",
    "P_low = 1.51e19\n",
    "m,r,p = integrate(P_low, 1e-4,5e-7,.05,2)\n",
    "print(\"mass =\",m[-1]/ac.Msun, \"solar masses\")\n",
    "print(\"P low =\", P_low)"
   ]
  },
  {
   "cell_type": "markdown",
   "metadata": {},
   "source": [
    "## 2.7 Make Mass Radius Table"
   ]
  },
  {
   "cell_type": "code",
   "execution_count": 5,
   "metadata": {},
   "outputs": [],
   "source": [
    "#Function to use with bisect\n",
    "def f(Pc,Mwant,delta_m,eta,xi,mue):\n",
    "    m,r,p = integrate(Pc,delta_m,eta,xi,mue)\n",
    "    M = m[-1]\n",
    "    return(M-Mwant)"
   ]
  },
  {
   "cell_type": "code",
   "execution_count": 6,
   "metadata": {
    "scrolled": true
   },
   "outputs": [],
   "source": [
    "#Finding optimized Pc for specific white dwarf masses between 0.1 and 1 solar masses\n",
    "import pandas as pd\n",
    "from scipy import optimize\n",
    "masses = ac.Msun*np.arange(0.1,1.1,0.1)\n",
    "P = np.zeros(10)\n",
    "R = np.zeros(10)\n",
    "Pmks = np.zeros(10)\n",
    "rhomks = np.zeros(10)\n",
    "rho = np.zeros(10)\n",
    "for i in range(len(masses)):\n",
    "    Pc = optimize.bisect(f,P_low,P_high,args = (masses[i],delta_m,eta,xi,mue))\n",
    "    m,r,p = integrate(Pc,delta_m,eta,xi,mue)\n",
    "    P[i] = Pc\n",
    "    R[i] = r[-1]\n",
    "    Pmks[i] = Pc/(ac.G*(masses[i])**2*R[i]**(-4))\n",
    "    rhomks[i] = density(P[i],mue)\n",
    "    rho[i] = rhomks[i]/((3*masses[i])/(ac.fourpi*R[i]**3))"
   ]
  },
  {
   "cell_type": "code",
   "execution_count": 30,
   "metadata": {},
   "outputs": [
    {
     "data": {
      "text/html": [
       "<div>\n",
       "<style scoped>\n",
       "    .dataframe tbody tr th:only-of-type {\n",
       "        vertical-align: middle;\n",
       "    }\n",
       "\n",
       "    .dataframe tbody tr th {\n",
       "        vertical-align: top;\n",
       "    }\n",
       "\n",
       "    .dataframe thead th {\n",
       "        text-align: right;\n",
       "    }\n",
       "</style>\n",
       "<table border=\"1\" class=\"dataframe\">\n",
       "  <thead>\n",
       "    <tr style=\"text-align: right;\">\n",
       "      <th></th>\n",
       "      <th>$$\\frac{M}{M_{\\odot}}$$</th>\n",
       "      <th>$\\frac{R}{R_{\\odot}}$</th>\n",
       "      <th>$P_c$ (MKS)</th>\n",
       "      <th>$\\frac{P_c}{GM^2R^{-4}}$</th>\n",
       "      <th>$\\rho_c$ (MKS)</th>\n",
       "      <th>$\\rho$</th>\n",
       "    </tr>\n",
       "  </thead>\n",
       "  <tbody>\n",
       "    <tr>\n",
       "      <th>0</th>\n",
       "      <td>0.1</td>\n",
       "      <td>0.027382</td>\n",
       "      <td>1.518007e+19</td>\n",
       "      <td>0.757552</td>\n",
       "      <td>4.063113e+07</td>\n",
       "      <td>5.917101</td>\n",
       "    </tr>\n",
       "    <tr>\n",
       "      <th>1</th>\n",
       "      <td>0.2</td>\n",
       "      <td>0.021733</td>\n",
       "      <td>1.530055e+20</td>\n",
       "      <td>0.757563</td>\n",
       "      <td>1.625245e+08</td>\n",
       "      <td>5.917164</td>\n",
       "    </tr>\n",
       "    <tr>\n",
       "      <th>2</th>\n",
       "      <td>0.3</td>\n",
       "      <td>0.018986</td>\n",
       "      <td>5.911230e+20</td>\n",
       "      <td>0.757589</td>\n",
       "      <td>3.656802e+08</td>\n",
       "      <td>5.917318</td>\n",
       "    </tr>\n",
       "    <tr>\n",
       "      <th>3</th>\n",
       "      <td>0.4</td>\n",
       "      <td>0.017250</td>\n",
       "      <td>1.542199e+21</td>\n",
       "      <td>0.757574</td>\n",
       "      <td>6.500981e+08</td>\n",
       "      <td>5.917227</td>\n",
       "    </tr>\n",
       "    <tr>\n",
       "      <th>4</th>\n",
       "      <td>0.5</td>\n",
       "      <td>0.016014</td>\n",
       "      <td>3.244692e+21</td>\n",
       "      <td>0.757674</td>\n",
       "      <td>1.015778e+09</td>\n",
       "      <td>5.917817</td>\n",
       "    </tr>\n",
       "    <tr>\n",
       "      <th>5</th>\n",
       "      <td>0.6</td>\n",
       "      <td>0.015069</td>\n",
       "      <td>5.958146e+21</td>\n",
       "      <td>0.757600</td>\n",
       "      <td>1.462721e+09</td>\n",
       "      <td>5.917378</td>\n",
       "    </tr>\n",
       "    <tr>\n",
       "      <th>6</th>\n",
       "      <td>0.7</td>\n",
       "      <td>0.014314</td>\n",
       "      <td>9.960179e+21</td>\n",
       "      <td>0.757573</td>\n",
       "      <td>1.990925e+09</td>\n",
       "      <td>5.917221</td>\n",
       "    </tr>\n",
       "    <tr>\n",
       "      <th>7</th>\n",
       "      <td>0.8</td>\n",
       "      <td>0.013691</td>\n",
       "      <td>1.554439e+22</td>\n",
       "      <td>0.757585</td>\n",
       "      <td>2.600392e+09</td>\n",
       "      <td>5.917290</td>\n",
       "    </tr>\n",
       "    <tr>\n",
       "      <th>8</th>\n",
       "      <td>0.9</td>\n",
       "      <td>0.013164</td>\n",
       "      <td>2.301876e+22</td>\n",
       "      <td>0.757624</td>\n",
       "      <td>3.291121e+09</td>\n",
       "      <td>5.917519</td>\n",
       "    </tr>\n",
       "    <tr>\n",
       "      <th>9</th>\n",
       "      <td>1.0</td>\n",
       "      <td>0.012710</td>\n",
       "      <td>3.270445e+22</td>\n",
       "      <td>0.757685</td>\n",
       "      <td>4.063112e+09</td>\n",
       "      <td>5.917876</td>\n",
       "    </tr>\n",
       "  </tbody>\n",
       "</table>\n",
       "</div>"
      ],
      "text/plain": [
       "   $$\\frac{M}{M_{\\odot}}$$  $\\frac{R}{R_{\\odot}}$   $P_c$ (MKS)  $\\frac{P_c}{GM^2R^{-4}}$  $\\rho_c$ (MKS)    $\\rho$\n",
       "0                      0.1               0.027382  1.518007e+19                  0.757552    4.063113e+07  5.917101\n",
       "1                      0.2               0.021733  1.530055e+20                  0.757563    1.625245e+08  5.917164\n",
       "2                      0.3               0.018986  5.911230e+20                  0.757589    3.656802e+08  5.917318\n",
       "3                      0.4               0.017250  1.542199e+21                  0.757574    6.500981e+08  5.917227\n",
       "4                      0.5               0.016014  3.244692e+21                  0.757674    1.015778e+09  5.917817\n",
       "5                      0.6               0.015069  5.958146e+21                  0.757600    1.462721e+09  5.917378\n",
       "6                      0.7               0.014314  9.960179e+21                  0.757573    1.990925e+09  5.917221\n",
       "7                      0.8               0.013691  1.554439e+22                  0.757585    2.600392e+09  5.917290\n",
       "8                      0.9               0.013164  2.301876e+22                  0.757624    3.291121e+09  5.917519\n",
       "9                      1.0               0.012710  3.270445e+22                  0.757685    4.063112e+09  5.917876"
      ]
     },
     "execution_count": 30,
     "metadata": {},
     "output_type": "execute_result"
    }
   ],
   "source": [
    "diction = {\"$$\\\\frac{M}{M_{\\\\odot}}$$\":np.arange(.1,1.1,.1), \"$\\\\frac{R}{R_{\\\\odot}}$\":R/ac.Rsun,\"$P_c$ (MKS)\": P,\n",
    "          \"$\\\\frac{P_c}{GM^2R^{-4}}$\":Pmks, \"$\\\\rho_c$ (MKS)\": rhomks, \"$\\\\rho$\": rho}\n",
    "\n",
    "table = pd.DataFrame(diction)\n",
    "table"
   ]
  },
  {
   "cell_type": "markdown",
   "metadata": {},
   "source": [
    "## 2.8 Compare to Observations"
   ]
  },
  {
   "cell_type": "code",
   "execution_count": 9,
   "metadata": {},
   "outputs": [
    {
     "data": {
      "image/png": "[encoded data removed]",
      "text/plain": [
       "<Figure size 720x504 with 1 Axes>"
      ]
     },
     "metadata": {
      "needs_background": "light"
     },
     "output_type": "display_data"
    }
   ],
   "source": [
    "import matplotlib.pyplot as plt\n",
    "from observations import MassRadiusObservations, make_observation_plot\n",
    "import seaborn as sns\n",
    "\n",
    "obs = MassRadiusObservations()\n",
    "\n",
    "fig = plt.figure(figsize = (10,7))\n",
    "\n",
    "ax =fig.add_subplot()\n",
    "ax.plot(masses/ac.Msun,R/(0.01*ac.Rsun),label=\"Computed Values\",linestyle = 'dashed', linewidth = 1,color = 'purple')\n",
    "make_observation_plot(ax, obs)\n",
    "ax.set_title('Computed Mass-Radius relation vs Observational data',fontsize=17)\n",
    "plt.show()"
   ]
  },
  {
   "cell_type": "markdown",
   "metadata": {},
   "source": [
    "## Report"
   ]
  },
  {
   "cell_type": "markdown",
   "metadata": {},
   "source": [
    "Before beginning the integration process to determine the mass-radius relationship for white dwarfs, we tested our equation of state functions for pressure and density that are written in eos.py and the test_eos.py returned a TRUE value, indicating that the EOS function we constructed was correct and all of our values were within the allowed tolerance.\n",
    "\n",
    "\n",
    "To get the values of δ, η, and ξ, we had to estimate with our `integrate` function. The procedure to get these values is simple, but it was hard to determine how small these values should be. We settled with δ = 1e-4, η = 5e-7, and ξ = 0.05. These were the values that produced stable results when varying other parameters. These parameters also produced solid results for the table above, boosting our confidence in them. These values would prove useful when calculating the scalings for central pressure and density. As seen in **2.6**, P_guess does a horrible job, giving us a mass 3 times larger than what we started with! We had to scale back P_guess to get sensible consistent results. Using `bisect`, we were able to optimize P_guess and get back the same mass we handed `integrate`. Bisect also had arguments for an lower and upper bounds, these bounds were P_low and P_high, calulated in **2.6**.\n",
    "\n",
    "\n",
    "Looking at the plot above, we see that, according to our model, radius decreases at a decreasing rate as the mass of the white dwarf increases. As you can see, our projected mass-radius relationship does not align very well with the observed data from HST and FUSE. It only passes through the error bars of two of the data points. This suggests our model of a white dwarf is not very realistic, and not a reliable predictor of the physical properties of dwarf stars. That being said, it does appear to have the same general shape as the data, so it could be used as a model of white dwarfs with a very low confidence, or if high precision was not needed."
   ]
  },
  {
   "cell_type": "code",
   "execution_count": null,
   "metadata": {},
   "outputs": [],
   "source": []
  }
 ],
 "metadata": {
  "kernelspec": {
   "display_name": "Python 3",
   "language": "python",
   "name": "python3"
  },
  "language_info": {
   "codemirror_mode": {
    "name": "ipython",
    "version": 3
   },
   "file_extension": ".py",
   "mimetype": "text/x-python",
   "name": "python",
   "nbconvert_exporter": "python",
   "pygments_lexer": "ipython3",
   "version": "3.7.4"
  }
 },
 "nbformat": 4,
 "nbformat_minor": 5
}
