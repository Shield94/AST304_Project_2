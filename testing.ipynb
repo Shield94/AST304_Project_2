{
 "cells": [
  {
   "cell_type": "code",
   "execution_count": 109,
   "id": "c7fe2348",
   "metadata": {},
   "outputs": [],
   "source": [
    "from test_eos import *\n",
    "import astro_const as ac\n",
    "from structure import stellar_derivatives, central_values, lengthscales, integrate, pressure_guess\n",
    "from eos import *"
   ]
  },
  {
   "cell_type": "code",
   "execution_count": 110,
   "id": "e40ea3f8",
   "metadata": {
    "scrolled": true
   },
   "outputs": [
    {
     "name": "stdout",
     "output_type": "stream",
     "text": [
      "6.017575396667514e+30 6094895.241167408 2.648592992998796e+18\n"
     ]
    }
   ],
   "source": [
    "Pc = pressure_guess(ac.Msun, 2)\n",
    "m,r,p = integrate(Pc, 1e-4,2e-6,.05,2)\n",
    "print(m[-1],r[-1],p[-1])"
   ]
  },
  {
   "cell_type": "markdown",
   "id": "6bb07984",
   "metadata": {},
   "source": [
    "## We used Msun, yet got 6e30 back for mass, Pguess is bad, we must correct it using bisect function below"
   ]
  },
  {
   "cell_type": "code",
   "execution_count": 111,
   "id": "c585e0a7",
   "metadata": {},
   "outputs": [],
   "source": [
    "#Function to use with bisect\n",
    "def f(Pc,Mwant,delta_m,eta,xi,mue):\n",
    "    m,r,p = integrate(Pc,delta_m,eta,xi,mue)\n",
    "    M = m[-1]\n",
    "    return(M-Mwant)"
   ]
  },
  {
   "cell_type": "code",
   "execution_count": 121,
   "id": "1bd8e6be",
   "metadata": {},
   "outputs": [],
   "source": [
    "#Using bisect to get correction factor for Pguess\n",
    "from scipy import optimize\n",
    "masses = ac.Msun*np.arange(0.1,1.1,0.1)\n",
    "Pcs = np.zeros(10)\n",
    "Pguesses = np.zeros(10)\n",
    "\n",
    "#parameters\n",
    "delta_m = 1e-4\n",
    "eta = 5e-7 \n",
    "xi = .05\n",
    "mue = 2\n",
    "\n",
    "for i in range(len(masses)):\n",
    "    Pguess = pressure_guess(masses[i],mue)\n",
    "    Pguesses[i] = Pguess\n",
    "    Pc = optimize.bisect(f,Pguess/100,Pguess,args = (masses[i],delta_m,eta,xi,mue))\n",
    "    Pcs[i] = Pc"
   ]
  },
  {
   "cell_type": "code",
   "execution_count": 122,
   "id": "bf859592",
   "metadata": {},
   "outputs": [
    {
     "data": {
      "text/plain": [
       "40.093381320405605"
      ]
     },
     "execution_count": 122,
     "metadata": {},
     "output_type": "execute_result"
    }
   ],
   "source": [
    "#Correction factor, divid Pguess by this number\n",
    "np.mean(Pguesses/Pcs) "
   ]
  },
  {
   "cell_type": "code",
   "execution_count": 123,
   "id": "9b3e7354",
   "metadata": {},
   "outputs": [
    {
     "name": "stdout",
     "output_type": "stream",
     "text": [
      "1.9884100319691045e+30 8842493.814427385 1.6607752356574852e+16\n"
     ]
    }
   ],
   "source": [
    "#Implimenting correction factor\n",
    "Pc = pressure_guess(ac.Msun, 2)/np.mean(Pguesses/Pcs)\n",
    "m,r,p = integrate(Pc, 1e-4,5e-7,.05,2)\n",
    "print(m[-1],r[-1],p[-1])"
   ]
  },
  {
   "cell_type": "code",
   "execution_count": 124,
   "id": "6209f1ed",
   "metadata": {},
   "outputs": [
    {
     "data": {
      "text/plain": [
       "1.988409870698051e+30"
      ]
     },
     "execution_count": 124,
     "metadata": {},
     "output_type": "execute_result"
    }
   ],
   "source": [
    "ac.Msun"
   ]
  },
  {
   "cell_type": "markdown",
   "id": "91b3b211",
   "metadata": {},
   "source": [
    "# Masses are closer now."
   ]
  },
  {
   "cell_type": "code",
   "execution_count": null,
   "id": "b9ee067f",
   "metadata": {},
   "outputs": [],
   "source": []
  },
  {
   "cell_type": "code",
   "execution_count": 125,
   "id": "910d7dd7",
   "metadata": {},
   "outputs": [],
   "source": [
    "import pandas as pd"
   ]
  },
  {
   "cell_type": "code",
   "execution_count": 126,
   "id": "ed689586",
   "metadata": {},
   "outputs": [],
   "source": [
    "R = np.zeros(10)\n",
    "P = np.zeros(10)\n",
    "Pmks = np.zeros(10)\n",
    "rhomks = np.zeros(10)\n",
    "rho = np.zeros(10)\n",
    "\n",
    "for i,j in enumerate(np.arange(.1,1.1,.1)):\n",
    "    Pc = pressure_guess(ac.Msun*j, 2)/np.mean(Pguesses/Pcs)\n",
    "    m,r,p = integrate(Pc, 1e-4,5e-7,.05,2)\n",
    "    R[i] = r[-1]\n",
    "    P[i] = Pc\n",
    "    Pmks[i] = Pc/(ac.G*(ac.Msun*j)**2*R[i]**(-4))\n",
    "    rhomks[i] = density(P[i],2)\n",
    "    rho[i] = rhomks[i]/((3*ac.Msun*j)/(ac.fourpi*R[i]**3))"
   ]
  },
  {
   "cell_type": "code",
   "execution_count": 127,
   "id": "b20f2d39",
   "metadata": {
    "scrolled": true
   },
   "outputs": [
    {
     "data": {
      "text/html": [
       "<div>\n",
       "<style scoped>\n",
       "    .dataframe tbody tr th:only-of-type {\n",
       "        vertical-align: middle;\n",
       "    }\n",
       "\n",
       "    .dataframe tbody tr th {\n",
       "        vertical-align: top;\n",
       "    }\n",
       "\n",
       "    .dataframe thead th {\n",
       "        text-align: right;\n",
       "    }\n",
       "</style>\n",
       "<table border=\"1\" class=\"dataframe\">\n",
       "  <thead>\n",
       "    <tr style=\"text-align: right;\">\n",
       "      <th></th>\n",
       "      <th>M/Msun</th>\n",
       "      <th>R/Rsun</th>\n",
       "      <th>Pc</th>\n",
       "      <th>Pc/stuff</th>\n",
       "      <th>rhoc</th>\n",
       "      <th>rho</th>\n",
       "    </tr>\n",
       "  </thead>\n",
       "  <tbody>\n",
       "    <tr>\n",
       "      <th>0</th>\n",
       "      <td>0.1</td>\n",
       "      <td>0.027370</td>\n",
       "      <td>1.518007e+19</td>\n",
       "      <td>0.757552</td>\n",
       "      <td>4.063113e+07</td>\n",
       "      <td>5.917101</td>\n",
       "    </tr>\n",
       "    <tr>\n",
       "      <th>1</th>\n",
       "      <td>0.2</td>\n",
       "      <td>0.021724</td>\n",
       "      <td>1.530055e+20</td>\n",
       "      <td>0.757563</td>\n",
       "      <td>1.625245e+08</td>\n",
       "      <td>5.917164</td>\n",
       "    </tr>\n",
       "    <tr>\n",
       "      <th>2</th>\n",
       "      <td>0.3</td>\n",
       "      <td>0.018978</td>\n",
       "      <td>5.911229e+20</td>\n",
       "      <td>0.757589</td>\n",
       "      <td>3.656802e+08</td>\n",
       "      <td>5.917318</td>\n",
       "    </tr>\n",
       "    <tr>\n",
       "      <th>3</th>\n",
       "      <td>0.4</td>\n",
       "      <td>0.017242</td>\n",
       "      <td>1.542198e+21</td>\n",
       "      <td>0.757574</td>\n",
       "      <td>6.500980e+08</td>\n",
       "      <td>5.917227</td>\n",
       "    </tr>\n",
       "    <tr>\n",
       "      <th>4</th>\n",
       "      <td>0.5</td>\n",
       "      <td>0.016007</td>\n",
       "      <td>3.244693e+21</td>\n",
       "      <td>0.757675</td>\n",
       "      <td>1.015778e+09</td>\n",
       "      <td>5.917817</td>\n",
       "    </tr>\n",
       "    <tr>\n",
       "      <th>5</th>\n",
       "      <td>0.6</td>\n",
       "      <td>0.015063</td>\n",
       "      <td>5.958146e+21</td>\n",
       "      <td>0.757600</td>\n",
       "      <td>1.462721e+09</td>\n",
       "      <td>5.917378</td>\n",
       "    </tr>\n",
       "    <tr>\n",
       "      <th>6</th>\n",
       "      <td>0.7</td>\n",
       "      <td>0.014308</td>\n",
       "      <td>9.960178e+21</td>\n",
       "      <td>0.757573</td>\n",
       "      <td>1.990925e+09</td>\n",
       "      <td>5.917220</td>\n",
       "    </tr>\n",
       "    <tr>\n",
       "      <th>7</th>\n",
       "      <td>0.8</td>\n",
       "      <td>0.013685</td>\n",
       "      <td>1.554439e+22</td>\n",
       "      <td>0.757585</td>\n",
       "      <td>2.600392e+09</td>\n",
       "      <td>5.917290</td>\n",
       "    </tr>\n",
       "    <tr>\n",
       "      <th>8</th>\n",
       "      <td>0.9</td>\n",
       "      <td>0.013159</td>\n",
       "      <td>2.301876e+22</td>\n",
       "      <td>0.757624</td>\n",
       "      <td>3.291121e+09</td>\n",
       "      <td>5.917519</td>\n",
       "    </tr>\n",
       "    <tr>\n",
       "      <th>9</th>\n",
       "      <td>1.0</td>\n",
       "      <td>0.012705</td>\n",
       "      <td>3.270446e+22</td>\n",
       "      <td>0.757685</td>\n",
       "      <td>4.063113e+09</td>\n",
       "      <td>5.917876</td>\n",
       "    </tr>\n",
       "  </tbody>\n",
       "</table>\n",
       "</div>"
      ],
      "text/plain": [
       "   M/Msun    R/Rsun            Pc  Pc/stuff          rhoc       rho\n",
       "0     0.1  0.027370  1.518007e+19  0.757552  4.063113e+07  5.917101\n",
       "1     0.2  0.021724  1.530055e+20  0.757563  1.625245e+08  5.917164\n",
       "2     0.3  0.018978  5.911229e+20  0.757589  3.656802e+08  5.917318\n",
       "3     0.4  0.017242  1.542198e+21  0.757574  6.500980e+08  5.917227\n",
       "4     0.5  0.016007  3.244693e+21  0.757675  1.015778e+09  5.917817\n",
       "5     0.6  0.015063  5.958146e+21  0.757600  1.462721e+09  5.917378\n",
       "6     0.7  0.014308  9.960178e+21  0.757573  1.990925e+09  5.917220\n",
       "7     0.8  0.013685  1.554439e+22  0.757585  2.600392e+09  5.917290\n",
       "8     0.9  0.013159  2.301876e+22  0.757624  3.291121e+09  5.917519\n",
       "9     1.0  0.012705  3.270446e+22  0.757685  4.063113e+09  5.917876"
      ]
     },
     "execution_count": 127,
     "metadata": {},
     "output_type": "execute_result"
    }
   ],
   "source": [
    "diction = {\"M/Msun\":np.arange(.1,1.1,.1), \"R/Rsun\":R/6.96e8,\"Pc\": P,\n",
    "          \"Pc/stuff\":Pmks, \"rhoc\": rhomks, \"rho\": rho}\n",
    "\n",
    "table = pd.DataFrame(diction)\n",
    "table"
   ]
  },
  {
   "cell_type": "markdown",
   "id": "33cc7de6",
   "metadata": {},
   "source": [
    "# Rubric:\n",
    "\n",
    "Pc/stuff = .77\n",
    "\n",
    "rho = 5.99"
   ]
  },
  {
   "cell_type": "code",
   "execution_count": null,
   "id": "5869a40c",
   "metadata": {},
   "outputs": [],
   "source": []
  }
 ],
 "metadata": {
  "kernelspec": {
   "display_name": "Python 3 (ipykernel)",
   "language": "python",
   "name": "python3"
  },
  "language_info": {
   "codemirror_mode": {
    "name": "ipython",
    "version": 3
   },
   "file_extension": ".py",
   "mimetype": "text/x-python",
   "name": "python",
   "nbconvert_exporter": "python",
   "pygments_lexer": "ipython3",
   "version": "3.9.12"
  }
 },
 "nbformat": 4,
 "nbformat_minor": 5
}
