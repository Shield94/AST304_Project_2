{
 "cells": [
  {
   "cell_type": "code",
   "execution_count": 9,
   "id": "6e83c567",
   "metadata": {},
   "outputs": [],
   "source": [
    "from test_eos import *\n",
    "import astro_const as ac\n",
    "from structure import stellar_derivatives, central_values, lengthscales, integrate, pressure_guess\n",
    "from eos import *"
   ]
  },
  {
   "cell_type": "markdown",
   "id": "f9d68e4f",
   "metadata": {},
   "source": [
    "# 2.6 Test Integration"
   ]
  },
  {
   "cell_type": "code",
   "execution_count": 10,
   "id": "0ab6008d",
   "metadata": {},
   "outputs": [
    {
     "name": "stdout",
     "output_type": "stream",
     "text": [
      "M guess = 6.017661562880464e+30 kg   R guess = 6113223.207222233 m   P guess = 6.632678570496515e+17 kg/(m*s^2)\n",
      "delta m = 0.0001\n",
      "eta = 5e-07\n",
      "xi = 0.05\n"
     ]
    }
   ],
   "source": [
    "#Adjusting delta_m, eta, and xi\n",
    "Pc = pressure_guess(ac.Msun, 2)\n",
    "m,r,p = integrate(Pc, 1e-4,5e-7,.05,2)\n",
    "print(\"M guess =\",m[-1],\"kg\",\"  R guess =\",r[-1],\"m\",\"  P guess =\",p[-1],\"kg/(m*s^2)\")\n",
    "\n",
    "delta_m = 1e-4\n",
    "eta = 5e-7\n",
    "xi = 0.05\n",
    "mue=2\n",
    "\n",
    "print(\"delta m =\",delta_m)\n",
    "print(\"eta =\", eta)\n",
    "print(\"xi =\",xi)"
   ]
  },
  {
   "cell_type": "code",
   "execution_count": 11,
   "id": "4863b73f",
   "metadata": {},
   "outputs": [
    {
     "name": "stdout",
     "output_type": "stream",
     "text": [
      "mass = 1.006333384661577 solar masses\n",
      "P high = 3.34e+22\n"
     ]
    }
   ],
   "source": [
    "#Finding High Pc\n",
    "P_high = 3.34e22\n",
    "m,r,p = integrate(P_high, 1e-4,5e-7,.05,2)\n",
    "print(\"mass =\" ,m[-1]/ac.Msun, \"solar masses\")\n",
    "print(\"P high =\", P_high)"
   ]
  },
  {
   "cell_type": "code",
   "execution_count": 12,
   "id": "77c7dbab",
   "metadata": {},
   "outputs": [
    {
     "name": "stdout",
     "output_type": "stream",
     "text": [
      "mass = 0.09984147171549435 solar masses\n",
      "P low = 1.51e+19\n"
     ]
    }
   ],
   "source": [
    "#Finding low Pc\n",
    "P_low = 1.51e19\n",
    "m,r,p = integrate(P_low, 1e-4,5e-7,.05,2)\n",
    "print(\"mass =\",m[-1]/ac.Msun, \"solar masses\")\n",
    "print(\"P low =\", P_low)"
   ]
  },
  {
   "cell_type": "markdown",
   "id": "d0ead218",
   "metadata": {},
   "source": [
    "# 2.7 Make Mass Radius Table"
   ]
  },
  {
   "cell_type": "code",
   "execution_count": 13,
   "id": "cdaaf0ca",
   "metadata": {},
   "outputs": [],
   "source": [
    "#Function to use with bisect\n",
    "def f(Pc,Mwant,delta_m,eta,xi,mue):\n",
    "    m,r,p = integrate(Pc,delta_m,eta,xi,mue)\n",
    "    M = m[-1]\n",
    "    return(M-Mwant)"
   ]
  },
  {
   "cell_type": "code",
   "execution_count": 16,
   "id": "c5804133",
   "metadata": {
    "scrolled": true
   },
   "outputs": [
    {
     "name": "stderr",
     "output_type": "stream",
     "text": [
      "C:\\Users\\natha\\AppData\\Local\\Temp\\ipykernel_12260\\2373358755.py:23: FutureWarning: In future versions `DataFrame.to_latex` is expected to utilise the base implementation of `Styler.to_latex` for formatting and rendering. The arguments signature may therefore change. It is recommended instead to use `DataFrame.style.to_latex` which also contains additional functionality.\n",
      "  table.to_latex()\n"
     ]
    },
    {
     "data": {
      "text/plain": [
       "'\\\\begin{tabular}{lrrrrrr}\\n\\\\toprule\\n{} &  M/Msun &    R/Rsun &            Pc &  Pc/stuff &          rhoc &       rho \\\\\\\\\\n\\\\midrule\\n0 &     0.1 &  0.027382 &  1.518007e+19 &  0.757552 &  4.063113e+07 &  5.917101 \\\\\\\\\\n1 &     0.2 &  0.021733 &  1.530055e+20 &  0.757563 &  1.625245e+08 &  5.917164 \\\\\\\\\\n2 &     0.3 &  0.018986 &  5.911230e+20 &  0.757589 &  3.656802e+08 &  5.917318 \\\\\\\\\\n3 &     0.4 &  0.017250 &  1.542199e+21 &  0.757574 &  6.500981e+08 &  5.917227 \\\\\\\\\\n4 &     0.5 &  0.016014 &  3.244692e+21 &  0.757674 &  1.015778e+09 &  5.917817 \\\\\\\\\\n5 &     0.6 &  0.015069 &  5.958146e+21 &  0.757600 &  1.462721e+09 &  5.917378 \\\\\\\\\\n6 &     0.7 &  0.014314 &  9.960179e+21 &  0.757573 &  1.990925e+09 &  5.917221 \\\\\\\\\\n7 &     0.8 &  0.013691 &  1.554439e+22 &  0.757585 &  2.600392e+09 &  5.917290 \\\\\\\\\\n8 &     0.9 &  0.013164 &  2.301876e+22 &  0.757624 &  3.291121e+09 &  5.917519 \\\\\\\\\\n9 &     1.0 &  0.012710 &  3.270445e+22 &  0.757685 &  4.063112e+09 &  5.917876 \\\\\\\\\\n\\\\bottomrule\\n\\\\end{tabular}\\n'"
      ]
     },
     "execution_count": 16,
     "metadata": {},
     "output_type": "execute_result"
    }
   ],
   "source": [
    "#Finding optimized Pc for specific white dwarf masses between 0.1 and 1 solar masses\n",
    "import pandas as pd\n",
    "from scipy import optimize\n",
    "masses = ac.Msun*np.arange(0.1,1.1,0.1)\n",
    "P = np.zeros(10)\n",
    "R = np.zeros(10)\n",
    "Pmks = np.zeros(10)\n",
    "rhomks = np.zeros(10)\n",
    "rho = np.zeros(10)\n",
    "for i in range(len(masses)):\n",
    "    Pc = optimize.bisect(f,P_low,P_high,args = (masses[i],delta_m,eta,xi,mue))\n",
    "    m,r,p = integrate(Pc,delta_m,eta,xi,mue)\n",
    "    P[i] = Pc\n",
    "    R[i] = r[-1]\n",
    "    Pmks[i] = Pc/(ac.G*(masses[i])**2*R[i]**(-4))\n",
    "    rhomks[i] = density(P[i],mue)\n",
    "    rho[i] = rhomks[i]/((3*masses[i])/(ac.fourpi*R[i]**3))\n",
    "    \n",
    "diction = {\"M/Msun\":np.arange(.1,1.1,.1), \"R/Rsun\":R/ac.Rsun,\"Pc\": P,\n",
    "          \"Pc/stuff\":Pmks, \"rhoc\": rhomks, \"rho\": rho}\n",
    "\n",
    "table = pd.DataFrame(diction)\n",
    "table.to_latex()"
   ]
  },
  {
   "cell_type": "markdown",
   "id": "2e243c44",
   "metadata": {},
   "source": [
    "# 2.8 Compare to Observations"
   ]
  },
  {
   "cell_type": "code",
   "execution_count": 49,
   "id": "2d0061d5",
   "metadata": {},
   "outputs": [
    {
     "data": {
      "image/png": "[encoded data removed]",
      "text/plain": [
       "<Figure size 576x432 with 1 Axes>"
      ]
     },
     "metadata": {
      "needs_background": "light"
     },
     "output_type": "display_data"
    }
   ],
   "source": [
    "import matplotlib.pyplot as plt\n",
    "from observations import MassRadiusObservations\n",
    "obs = MassRadiusObservations()\n",
    "\n",
    "plt.figure(figsize=(8,6))\n",
    "plt.scatter(R/(0.01*ac.Rsun),masses/ac.Msun,label=\"Computed Values\")\n",
    "plt.scatter(obs.radii,obs.masses,label='Observations')\n",
    "plt.xlabel(\"Radius ($0.01R_\\u2609$)\",fontsize=13)\n",
    "plt.ylabel(\"Mass ($M_\\u2609$)\",fontsize=13)\n",
    "plt.legend()\n",
    "plt.title('Computed Mass-Radius relation versus Observational data',fontsize=14)\n",
    "plt.show()"
   ]
  }
 ],
 "metadata": {
  "kernelspec": {
   "display_name": "Python 3 (ipykernel)",
   "language": "python",
   "name": "python3"
  },
  "language_info": {
   "codemirror_mode": {
    "name": "ipython",
    "version": 3
   },
   "file_extension": ".py",
   "mimetype": "text/x-python",
   "name": "python",
   "nbconvert_exporter": "python",
   "pygments_lexer": "ipython3",
   "version": "3.9.12"
  }
 },
 "nbformat": 4,
 "nbformat_minor": 5
}
