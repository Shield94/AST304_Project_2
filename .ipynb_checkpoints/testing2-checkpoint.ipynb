{
 "cells": [
  {
   "cell_type": "code",
   "execution_count": 1,
   "id": "1ee35ef5",
   "metadata": {},
   "outputs": [],
   "source": [
    "from test_eos import *\n",
    "import astro_const as ac\n",
    "from structure import stellar_derivatives, central_values, lengthscales, integrate, pressure_guess\n",
    "from eos import *"
   ]
  },
  {
   "cell_type": "markdown",
   "id": "77f43451",
   "metadata": {},
   "source": [
    "# 2.6 Test Integration"
   ]
  },
  {
   "cell_type": "code",
   "execution_count": 14,
   "id": "f0ae5215",
   "metadata": {},
   "outputs": [
    {
     "name": "stdout",
     "output_type": "stream",
     "text": [
      "M guess = 6.017661562880473e+30 kg   R guess = 6113223.207222236 m   P guess = 6.632678570496524e+17 kg/(m*s^2)\n",
      "delta m = 0.0001\n",
      "eta = 5e-07\n",
      "xi = 0.05\n"
     ]
    }
   ],
   "source": [
    "#Adjusting delta_m, eta, and xi\n",
    "Pc = pressure_guess(ac.Msun, 2)\n",
    "m,r,p = integrate(Pc, 1e-4,5e-7,.05,2)\n",
    "print(\"M guess =\",m[-1],\"kg\",\"  R guess =\",r[-1],\"m\",\"  P guess =\",p[-1],\"kg/(m*s^2)\")\n",
    "\n",
    "delta_m = 1e-4\n",
    "eta = 5e-7\n",
    "xi = 0.05\n",
    "mue=2\n",
    "\n",
    "print(\"delta m =\",delta_m)\n",
    "print(\"eta =\", eta)\n",
    "print(\"xi =\",xi)"
   ]
  },
  {
   "cell_type": "code",
   "execution_count": 11,
   "id": "31200a0f",
   "metadata": {},
   "outputs": [
    {
     "name": "stdout",
     "output_type": "stream",
     "text": [
      "mass = 1.0063333846615787 solar masses\n",
      "P high = 3.34e+22\n"
     ]
    }
   ],
   "source": [
    "#Finding High Pc\n",
    "\n",
    "P_high = 3.34e22\n",
    "m,r,p = integrate(P_high, 1e-4,5e-7,.05,2)\n",
    "print(\"mass =\" ,m[-1]/ac.Msun, \"solar masses\")\n",
    "print(\"P high =\", P_high)"
   ]
  },
  {
   "cell_type": "code",
   "execution_count": 12,
   "id": "dfa78b24",
   "metadata": {},
   "outputs": [
    {
     "name": "stdout",
     "output_type": "stream",
     "text": [
      "mass = 0.09984147171549451 solar masses\n",
      "P low = 1.51e+19\n"
     ]
    }
   ],
   "source": [
    "#Finding low Pc\n",
    "P_low = 1.51e19\n",
    "m,r,p = integrate(P_low, 1e-4,5e-7,.05,2)\n",
    "print(\"mass =\",m[-1]/ac.Msun, \"solar masses\")\n",
    "print(\"P low =\", P_low)"
   ]
  },
  {
   "cell_type": "markdown",
   "id": "4c8fa004",
   "metadata": {},
   "source": [
    "# 2.7 Make Mass Radius Table"
   ]
  },
  {
   "cell_type": "code",
   "execution_count": 13,
   "id": "6586ef6e",
   "metadata": {},
   "outputs": [],
   "source": [
    "#Function to use with bisect\n",
    "def f(Pc,Mwant,delta_m,eta,xi,mue):\n",
    "    m,r,p = integrate(Pc,delta_m,eta,xi,mue)\n",
    "    M = m[-1]\n",
    "    return(M-Mwant)"
   ]
  },
  {
   "cell_type": "code",
   "execution_count": 15,
   "id": "d40dc4a3",
   "metadata": {
    "scrolled": true
   },
   "outputs": [
    {
     "data": {
      "text/html": [
       "<div>\n",
       "<style scoped>\n",
       "    .dataframe tbody tr th:only-of-type {\n",
       "        vertical-align: middle;\n",
       "    }\n",
       "\n",
       "    .dataframe tbody tr th {\n",
       "        vertical-align: top;\n",
       "    }\n",
       "\n",
       "    .dataframe thead th {\n",
       "        text-align: right;\n",
       "    }\n",
       "</style>\n",
       "<table border=\"1\" class=\"dataframe\">\n",
       "  <thead>\n",
       "    <tr style=\"text-align: right;\">\n",
       "      <th></th>\n",
       "      <th>M/Msun</th>\n",
       "      <th>R/Rsun</th>\n",
       "      <th>Pc</th>\n",
       "      <th>Pc/stuff</th>\n",
       "      <th>rhoc</th>\n",
       "      <th>rho</th>\n",
       "    </tr>\n",
       "  </thead>\n",
       "  <tbody>\n",
       "    <tr>\n",
       "      <th>0</th>\n",
       "      <td>0.1</td>\n",
       "      <td>0.027382</td>\n",
       "      <td>1.518007e+19</td>\n",
       "      <td>0.757552</td>\n",
       "      <td>4.063113e+07</td>\n",
       "      <td>5.917101</td>\n",
       "    </tr>\n",
       "    <tr>\n",
       "      <th>1</th>\n",
       "      <td>0.2</td>\n",
       "      <td>0.021733</td>\n",
       "      <td>1.530055e+20</td>\n",
       "      <td>0.757563</td>\n",
       "      <td>1.625245e+08</td>\n",
       "      <td>5.917164</td>\n",
       "    </tr>\n",
       "    <tr>\n",
       "      <th>2</th>\n",
       "      <td>0.3</td>\n",
       "      <td>0.018986</td>\n",
       "      <td>5.911230e+20</td>\n",
       "      <td>0.757589</td>\n",
       "      <td>3.656802e+08</td>\n",
       "      <td>5.917318</td>\n",
       "    </tr>\n",
       "    <tr>\n",
       "      <th>3</th>\n",
       "      <td>0.4</td>\n",
       "      <td>0.017250</td>\n",
       "      <td>1.542199e+21</td>\n",
       "      <td>0.757574</td>\n",
       "      <td>6.500981e+08</td>\n",
       "      <td>5.917227</td>\n",
       "    </tr>\n",
       "    <tr>\n",
       "      <th>4</th>\n",
       "      <td>0.5</td>\n",
       "      <td>0.016014</td>\n",
       "      <td>3.244692e+21</td>\n",
       "      <td>0.757674</td>\n",
       "      <td>1.015778e+09</td>\n",
       "      <td>5.917817</td>\n",
       "    </tr>\n",
       "    <tr>\n",
       "      <th>5</th>\n",
       "      <td>0.6</td>\n",
       "      <td>0.015069</td>\n",
       "      <td>5.958146e+21</td>\n",
       "      <td>0.757600</td>\n",
       "      <td>1.462721e+09</td>\n",
       "      <td>5.917378</td>\n",
       "    </tr>\n",
       "    <tr>\n",
       "      <th>6</th>\n",
       "      <td>0.7</td>\n",
       "      <td>0.014314</td>\n",
       "      <td>9.960179e+21</td>\n",
       "      <td>0.757573</td>\n",
       "      <td>1.990925e+09</td>\n",
       "      <td>5.917221</td>\n",
       "    </tr>\n",
       "    <tr>\n",
       "      <th>7</th>\n",
       "      <td>0.8</td>\n",
       "      <td>0.013691</td>\n",
       "      <td>1.554439e+22</td>\n",
       "      <td>0.757585</td>\n",
       "      <td>2.600392e+09</td>\n",
       "      <td>5.917290</td>\n",
       "    </tr>\n",
       "    <tr>\n",
       "      <th>8</th>\n",
       "      <td>0.9</td>\n",
       "      <td>0.013164</td>\n",
       "      <td>2.301876e+22</td>\n",
       "      <td>0.757624</td>\n",
       "      <td>3.291121e+09</td>\n",
       "      <td>5.917519</td>\n",
       "    </tr>\n",
       "    <tr>\n",
       "      <th>9</th>\n",
       "      <td>1.0</td>\n",
       "      <td>0.012710</td>\n",
       "      <td>3.270445e+22</td>\n",
       "      <td>0.757685</td>\n",
       "      <td>4.063112e+09</td>\n",
       "      <td>5.917876</td>\n",
       "    </tr>\n",
       "  </tbody>\n",
       "</table>\n",
       "</div>"
      ],
      "text/plain": [
       "   M/Msun    R/Rsun            Pc  Pc/stuff          rhoc       rho\n",
       "0     0.1  0.027382  1.518007e+19  0.757552  4.063113e+07  5.917101\n",
       "1     0.2  0.021733  1.530055e+20  0.757563  1.625245e+08  5.917164\n",
       "2     0.3  0.018986  5.911230e+20  0.757589  3.656802e+08  5.917318\n",
       "3     0.4  0.017250  1.542199e+21  0.757574  6.500981e+08  5.917227\n",
       "4     0.5  0.016014  3.244692e+21  0.757674  1.015778e+09  5.917817\n",
       "5     0.6  0.015069  5.958146e+21  0.757600  1.462721e+09  5.917378\n",
       "6     0.7  0.014314  9.960179e+21  0.757573  1.990925e+09  5.917221\n",
       "7     0.8  0.013691  1.554439e+22  0.757585  2.600392e+09  5.917290\n",
       "8     0.9  0.013164  2.301876e+22  0.757624  3.291121e+09  5.917519\n",
       "9     1.0  0.012710  3.270445e+22  0.757685  4.063112e+09  5.917876"
      ]
     },
     "execution_count": 15,
     "metadata": {},
     "output_type": "execute_result"
    }
   ],
   "source": [
    "#Finding optimized Pc for specific white dwarf masses between 0.1 and 1 solar masses\n",
    "import pandas as pd\n",
    "from scipy import optimize\n",
    "masses = ac.Msun*np.arange(0.1,1.1,0.1)\n",
    "P = np.zeros(10)\n",
    "R = np.zeros(10)\n",
    "Pmks = np.zeros(10)\n",
    "rhomks = np.zeros(10)\n",
    "rho = np.zeros(10)\n",
    "for i in range(len(masses)):\n",
    "    Pc = optimize.bisect(f,P_low,P_high,args = (masses[i],delta_m,eta,xi,mue))\n",
    "    m,r,p = integrate(Pc,delta_m,eta,xi,mue)\n",
    "    P[i] = Pc\n",
    "    R[i] = r[-1]\n",
    "    Pmks[i] = Pc/(ac.G*(masses[i])**2*R[i]**(-4))\n",
    "    rhomks[i] = density(P[i],mue)\n",
    "    rho[i] = rhomks[i]/((3*masses[i])/(ac.fourpi*R[i]**3))\n",
    "    \n",
    "diction = {\"M/Msun\":np.arange(.1,1.1,.1), \"R/Rsun\":R/ac.Rsun,\"Pc\": P,\n",
    "          \"Pc/stuff\":Pmks, \"rhoc\": rhomks, \"rho\": rho}\n",
    "\n",
    "table = pd.DataFrame(diction)\n",
    "table"
   ]
  },
  {
   "cell_type": "code",
   "execution_count": null,
   "id": "7091044c",
   "metadata": {},
   "outputs": [],
   "source": []
  }
 ],
 "metadata": {
  "kernelspec": {
   "display_name": "Python 3 (ipykernel)",
   "language": "python",
   "name": "python3"
  },
  "language_info": {
   "codemirror_mode": {
    "name": "ipython",
    "version": 3
   },
   "file_extension": ".py",
   "mimetype": "text/x-python",
   "name": "python",
   "nbconvert_exporter": "python",
   "pygments_lexer": "ipython3",
   "version": "3.9.12"
  }
 },
 "nbformat": 4,
 "nbformat_minor": 5
}
